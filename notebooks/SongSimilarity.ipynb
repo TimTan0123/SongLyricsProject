{
 "metadata": {
  "name": "",
  "signature": "sha256:358f41fcc3bb334466b4f99d6cb0c2ff15ba6e79ce48ce0ae721cf2b5365cc9f"
 },
 "nbformat": 3,
 "nbformat_minor": 0,
 "worksheets": [
  {
   "cells": [
    {
     "cell_type": "code",
     "collapsed": false,
     "input": [
      "import gensim\n",
      "import pandas as pd\n",
      "from os import listdir\n",
      "from os.path import isfile, join\n",
      "from nltk.corpus import stopwords\n",
      "from nltk import word_tokenize\n",
      "import numpy as np\n",
      "import scipy as sp\n",
      "import re"
     ],
     "language": "python",
     "metadata": {},
     "outputs": [],
     "prompt_number": 2
    },
    {
     "cell_type": "code",
     "collapsed": false,
     "input": [
      "modelLoc = '/home/rohit/Capstone/DL/GoogleNews-vectors-negative300.bin'\n",
      "model = gensim.models.Word2Vec.load_word2vec_format(modelLoc,binary=True)\n",
      "cachedStopWords = stopwords.words(\"english\")"
     ],
     "language": "python",
     "metadata": {},
     "outputs": [],
     "prompt_number": 3
    },
    {
     "cell_type": "code",
     "collapsed": false,
     "input": [
      "songsDir = '/home/rohit/Capstone/Data'\n",
      "all_files = [join(songsDir,f) for f in listdir(songsDir) if isfile(join(songsDir, f))]\n",
      "files = all_files[0:5]\n",
      "\n",
      "def removeStopWords(corpus,cachedStopWords):\n",
      "    text = ' '.join([word for word in corpus.split() if word not in cachedStopWords])\n",
      "    return text"
     ],
     "language": "python",
     "metadata": {},
     "outputs": [],
     "prompt_number": 4
    },
    {
     "cell_type": "code",
     "collapsed": false,
     "input": [
      "mat = []\n",
      "total = 0\n",
      "index = 0\n",
      "totalwords=0\n",
      "wordspresent=0\n",
      "corpus = []\n",
      "for f in files:\n",
      "    #print(f)\n",
      "    songs = pd.read_csv(f)\n",
      "    \n",
      "    for index in range(len(songs)):\n",
      "        lyrics = songs.ix[index]['Lyrics']\n",
      "        if (lyrics != '######'):\n",
      "            lyrics = re.sub(r'[^\\x00-\\x7f]',r' ',str(lyrics))\n",
      "            lyrics = lyrics.lower()\n",
      "            lyrics = removeStopWords(lyrics,cachedStopWords)\n",
      "            feature = [0] * 300\n",
      "            tokens = word_tokenize(lyrics)\n",
      "            words = [element for element in tokens]\n",
      "            totalwords = totalwords + len(words)\n",
      "            for word in words:\n",
      "                if word in model.vocab:\n",
      "                    wordspresent = wordspresent+1\n",
      "                    feature = np.add(feature,model[word])\n",
      "            mat.append(feature)\n",
      "            corpus.append(lyrics)\n",
      "            if (len(mat)==1500):\n",
      "                break\n",
      "    if len(mat)==1500:\n",
      "        break"
     ],
     "language": "python",
     "metadata": {},
     "outputs": [],
     "prompt_number": 5
    },
    {
     "cell_type": "code",
     "collapsed": false,
     "input": [
      "mat = np.array(mat)\n",
      "#print(mat.shape)\n",
      "print(mat.shape)\n",
      "print(\"words present\")\n",
      "print(wordspresent)\n",
      "print(\"total words present\")\n",
      "print(totalwords)"
     ],
     "language": "python",
     "metadata": {},
     "outputs": [
      {
       "output_type": "stream",
       "stream": "stdout",
       "text": [
        "(1500, 300)\n",
        "words present\n",
        "196900\n",
        "total words present\n",
        "243147\n"
       ]
      }
     ],
     "prompt_number": 6
    },
    {
     "cell_type": "code",
     "collapsed": false,
     "input": [
      "#print(mat[1])\n",
      "#print(mat[20])\n",
      "dists_wordemb = sp.spatial.distance.squareform(sp.spatial.distance.pdist(mat, 'euclidean'), force='no', checks=True)\n",
      "print(dists_wordemb.shape)"
     ],
     "language": "python",
     "metadata": {},
     "outputs": [
      {
       "output_type": "stream",
       "stream": "stdout",
       "text": [
        "(1500, 1500)\n"
       ]
      }
     ],
     "prompt_number": 7
    },
    {
     "cell_type": "code",
     "collapsed": false,
     "input": [
      "from sklearn.feature_extraction.text import CountVectorizer\n",
      "vectorizer = CountVectorizer(min_df=5)\n",
      "X = vectorizer.fit_transform(corpus)\n",
      "matrix = X.toarray()\n",
      "from sklearn.decomposition import PCA\n",
      "pca_m = PCA(n_components=0.95)\n",
      "mat_pca = pca_m.fit_transform(matrix)\n",
      "print(mat_pca.shape)"
     ],
     "language": "python",
     "metadata": {},
     "outputs": [
      {
       "output_type": "stream",
       "stream": "stdout",
       "text": [
        "(1500, 457)\n"
       ]
      }
     ],
     "prompt_number": 8
    },
    {
     "cell_type": "code",
     "collapsed": false,
     "input": [
      "dists_tfidf = sp.spatial.distance.squareform(sp.spatial.distance.pdist(mat_pca, 'euclidean'), force='no', checks=True)\n",
      "print(dists_tfidf.shape)"
     ],
     "language": "python",
     "metadata": {},
     "outputs": [
      {
       "output_type": "stream",
       "stream": "stdout",
       "text": [
        "(1500, 1500)\n"
       ]
      }
     ],
     "prompt_number": 9
    },
    {
     "cell_type": "code",
     "collapsed": false,
     "input": [
      "from sklearn.decomposition import TruncatedSVD\n",
      "svd = TruncatedSVD(n_components=300, n_iter=7, random_state=42)\n",
      "mat_svd = svd.fit_transform(matrix)\n",
      "print(mat_svd.shape) \n"
     ],
     "language": "python",
     "metadata": {},
     "outputs": [
      {
       "output_type": "stream",
       "stream": "stdout",
       "text": [
        "(1500, 300)\n"
       ]
      }
     ],
     "prompt_number": 10
    },
    {
     "cell_type": "code",
     "collapsed": false,
     "input": [
      "dists_tfidf = sp.spatial.distance.squareform(sp.spatial.distance.pdist(mat_svd, 'euclidean'), force='no', checks=True)\n",
      "print(dists_tfidf.shape)"
     ],
     "language": "python",
     "metadata": {},
     "outputs": [
      {
       "output_type": "stream",
       "stream": "stdout",
       "text": [
        "(1500, 1500)\n"
       ]
      }
     ],
     "prompt_number": 11
    },
    {
     "cell_type": "code",
     "collapsed": false,
     "input": [
      "svd_new = TruncatedSVD(n_components=2, n_iter=7, random_state=42)\n",
      "mat_svd_2 = svd_new.fit_transform(matrix)"
     ],
     "language": "python",
     "metadata": {},
     "outputs": [],
     "prompt_number": 14
    },
    {
     "cell_type": "code",
     "collapsed": false,
     "input": [
      "print(mat_svd_2.shape)"
     ],
     "language": "python",
     "metadata": {},
     "outputs": [
      {
       "output_type": "stream",
       "stream": "stdout",
       "text": [
        "(1500, 2)\n"
       ]
      }
     ],
     "prompt_number": 15
    },
    {
     "cell_type": "code",
     "collapsed": false,
     "input": [
      "%matplotlib inline  \n",
      "import matplotlib.pyplot as plt\n",
      "fig = plt.figure()\n",
      "ax = fig.add_subplot(111)\n",
      "p = ax.plot(mat_svd[:,0], mat_svd[:,1], '.')\n",
      "ax.set_xlabel('x-points')\n",
      "ax.set_ylabel('y-points')\n",
      "ax.set_title('Simple XY point plot')\n",
      "fig.show()"
     ],
     "language": "python",
     "metadata": {},
     "outputs": [
      {
       "metadata": {},
       "output_type": "display_data",
       "png": "[encoded data removed]",
       "text": [
        "<matplotlib.figure.Figure at 0x7f848339c450>"
       ]
      }
     ],
     "prompt_number": 19
    },
    {
     "cell_type": "code",
     "collapsed": false,
     "input": [],
     "language": "python",
     "metadata": {},
     "outputs": []
    }
   ],
   "metadata": {}
  }
 ]
}