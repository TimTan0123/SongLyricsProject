{
 "cells": [
  {
   "cell_type": "code",
   "execution_count": 61,
   "metadata": {
    "collapsed": false
   },
   "outputs": [],
   "source": [
    "import pandas as pd\n",
    "from pymongo import  MongoClient\n",
    "import json\n",
    "import glob"
   ]
  },
  {
   "cell_type": "code",
   "execution_count": 45,
   "metadata": {
    "collapsed": true
   },
   "outputs": [],
   "source": [
    "# connect to mongodb\n",
    "client = MongoClient('localhost', 27017)\n",
    "db = client.lyrics\n",
    "coll = db.yearly"
   ]
  },
  {
   "cell_type": "code",
   "execution_count": 65,
   "metadata": {
    "collapsed": false
   },
   "outputs": [],
   "source": [
    "# get all files\n",
    "lyric_files = glob.glob(\"../data/cleaned_lyrics_year/*.csv\")\n",
    "# import csv's, remove the first column\n",
    "for lyric_file in lyric_files:\n",
    "    df = pd.read_csv(lyric_file)\n",
    "    df.drop('Unnamed: 0', 1, inplace=True)\n",
    "    df.rename(columns={'Artist': 'artist', 'Lyrics': 'lyrics', 'Title': 'title', 'Track_id': 'track_id', 'Year': 'year'}, inplace=True)\n",
    "    records = json.loads(df.T.to_json()).values()\n",
    "    coll.insert_many(records)"
   ]
  },
  {
   "cell_type": "code",
   "execution_count": 72,
   "metadata": {
    "collapsed": false
   },
   "outputs": [
    {
     "data": {
      "text/html": [
       "<div>\n",
       "<table border=\"1\" class=\"dataframe\">\n",
       "  <thead>\n",
       "    <tr style=\"text-align: right;\">\n",
       "      <th></th>\n",
       "      <th>artist</th>\n",
       "      <th>lyrics</th>\n",
       "      <th>title</th>\n",
       "      <th>year</th>\n",
       "    </tr>\n",
       "  </thead>\n",
       "  <tbody>\n",
       "    <tr>\n",
       "      <th>0</th>\n",
       "      <td>Leona Lewis</td>\n",
       "      <td>I'll sing it one last time for you\\nThen we re...</td>\n",
       "      <td>Run</td>\n",
       "      <td>2008</td>\n",
       "    </tr>\n",
       "    <tr>\n",
       "      <th>1</th>\n",
       "      <td>Eels</td>\n",
       "      <td>Not much of a man\\nBut still I am a man\\nAnd y...</td>\n",
       "      <td>I Want To Protect You</td>\n",
       "      <td>2008</td>\n",
       "    </tr>\n",
       "    <tr>\n",
       "      <th>2</th>\n",
       "      <td>Calexico</td>\n",
       "      <td>Writer's Minor Holiday\\n\\nThumb tacks spread o...</td>\n",
       "      <td>Writer's Minor Holiday</td>\n",
       "      <td>2008</td>\n",
       "    </tr>\n",
       "    <tr>\n",
       "      <th>3</th>\n",
       "      <td>Evangelista</td>\n",
       "      <td>Something's always ringin, something's always ...</td>\n",
       "      <td>Smooth Jazz</td>\n",
       "      <td>2008</td>\n",
       "    </tr>\n",
       "    <tr>\n",
       "      <th>4</th>\n",
       "      <td>Blackmore's Night</td>\n",
       "      <td>I walk alone, the night wears a shadow\\nPainte...</td>\n",
       "      <td>Gilded cage</td>\n",
       "      <td>2008</td>\n",
       "    </tr>\n",
       "  </tbody>\n",
       "</table>\n",
       "</div>"
      ],
      "text/plain": [
       "              artist                                             lyrics  \\\n",
       "0        Leona Lewis  I'll sing it one last time for you\\nThen we re...   \n",
       "1               Eels  Not much of a man\\nBut still I am a man\\nAnd y...   \n",
       "2           Calexico  Writer's Minor Holiday\\n\\nThumb tacks spread o...   \n",
       "3        Evangelista  Something's always ringin, something's always ...   \n",
       "4  Blackmore's Night  I walk alone, the night wears a shadow\\nPainte...   \n",
       "\n",
       "                    title  year  \n",
       "0                     Run  2008  \n",
       "1   I Want To Protect You  2008  \n",
       "2  Writer's Minor Holiday  2008  \n",
       "3             Smooth Jazz  2008  \n",
       "4             Gilded cage  2008  "
      ]
     },
     "execution_count": 72,
     "metadata": {},
     "output_type": "execute_result"
    }
   ],
   "source": [
    "# load data from mongodb into pandas\n",
    "data = coll.find({\"year\":2008}, {\"_id\":0, \"track_id\":0}).limit(10)\n",
    "song_lyrics = pd.DataFrame(list(data))\n",
    "song_lyrics.head()"
   ]
  },
  {
   "cell_type": "code",
   "execution_count": null,
   "metadata": {
    "collapsed": true
   },
   "outputs": [],
   "source": []
  }
 ],
 "metadata": {
  "anaconda-cloud": {},
  "kernelspec": {
   "display_name": "Python [default]",
   "language": "python",
   "name": "python2"
  },
  "language_info": {
   "codemirror_mode": {
    "name": "ipython",
    "version": 2
   },
   "file_extension": ".py",
   "mimetype": "text/x-python",
   "name": "python",
   "nbconvert_exporter": "python",
   "pygments_lexer": "ipython2",
   "version": "2.7.12"
  }
 },
 "nbformat": 4,
 "nbformat_minor": 0
}
