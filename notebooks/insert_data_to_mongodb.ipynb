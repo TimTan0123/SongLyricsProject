{
 "cells": [
  {
   "cell_type": "code",
   "execution_count": 1,
   "metadata": {
    "collapsed": false
   },
   "outputs": [],
   "source": [
    "import pandas as pd\n",
    "from pymongo import  MongoClient\n",
    "import json\n",
    "import glob"
   ]
  },
  {
   "cell_type": "code",
   "execution_count": 2,
   "metadata": {
    "collapsed": true
   },
   "outputs": [],
   "source": [
    "# connect to mongodb\n",
    "client = MongoClient('localhost', 27017)\n",
    "db = client.lyrics\n",
    "coll = db.yearly"
   ]
  },
  {
   "cell_type": "code",
   "execution_count": 9,
   "metadata": {
    "collapsed": false
   },
   "outputs": [],
   "source": [
    "# NOTE: This has already been run\n",
    "# get all files\n",
    "if 1 == 0:\n",
    "    lyric_files = glob.glob(\"../data/cleaned_lyrics_year/*.csv\")\n",
    "    # import csv's, remove the first column\n",
    "    for lyric_file in lyric_files:\n",
    "        df = pd.read_csv(lyric_file)\n",
    "        df.drop('Unnamed: 0', 1, inplace=True)\n",
    "        df.rename(columns={'Artist': 'artist', 'Lyrics': 'lyrics', 'Title': 'title', 'Track_id': 'track_id', 'Year': 'year'}, inplace=True)\n",
    "        records = json.loads(df.T.to_json()).values()\n",
    "        coll.insert_many(records)"
   ]
  },
  {
   "cell_type": "code",
   "execution_count": 3,
   "metadata": {
    "collapsed": false
   },
   "outputs": [
    {
     "data": {
      "text/html": [
       "<div>\n",
       "<table border=\"1\" class=\"dataframe\">\n",
       "  <thead>\n",
       "    <tr style=\"text-align: right;\">\n",
       "      <th></th>\n",
       "      <th>artist</th>\n",
       "      <th>lyrics</th>\n",
       "      <th>title</th>\n",
       "      <th>year</th>\n",
       "    </tr>\n",
       "  </thead>\n",
       "  <tbody>\n",
       "    <tr>\n",
       "      <th>0</th>\n",
       "      <td>Bukka White</td>\n",
       "      <td>I was over in Aberdeen\\nOn my way to New Orlea...</td>\n",
       "      <td>Aberdeen Mississippi Blues</td>\n",
       "      <td>1940</td>\n",
       "    </tr>\n",
       "    <tr>\n",
       "      <th>1</th>\n",
       "      <td>Bukka White</td>\n",
       "      <td>When a man gets trouble in his mind\\nHe wanna ...</td>\n",
       "      <td>Sleepy Man Blues</td>\n",
       "      <td>1940</td>\n",
       "    </tr>\n",
       "    <tr>\n",
       "      <th>2</th>\n",
       "      <td>Bessie Smith</td>\n",
       "      <td>Woke up this mornin' when chickens was crowin'...</td>\n",
       "      <td>Young Woman's Blues</td>\n",
       "      <td>1940</td>\n",
       "    </tr>\n",
       "    <tr>\n",
       "      <th>3</th>\n",
       "      <td>Bukka White</td>\n",
       "      <td>I'm taken down with the fever and it won't let...</td>\n",
       "      <td>High Fever Blues</td>\n",
       "      <td>1940</td>\n",
       "    </tr>\n",
       "    <tr>\n",
       "      <th>4</th>\n",
       "      <td>Bukka White</td>\n",
       "      <td>Hey-eee, come on you women\\nLet's a do the the...</td>\n",
       "      <td>Bukka's Jitterbug Swing</td>\n",
       "      <td>1940</td>\n",
       "    </tr>\n",
       "  </tbody>\n",
       "</table>\n",
       "</div>"
      ],
      "text/plain": [
       "         artist                                             lyrics  \\\n",
       "0   Bukka White  I was over in Aberdeen\\nOn my way to New Orlea...   \n",
       "1   Bukka White  When a man gets trouble in his mind\\nHe wanna ...   \n",
       "2  Bessie Smith  Woke up this mornin' when chickens was crowin'...   \n",
       "3   Bukka White  I'm taken down with the fever and it won't let...   \n",
       "4   Bukka White  Hey-eee, come on you women\\nLet's a do the the...   \n",
       "\n",
       "                        title  year  \n",
       "0  Aberdeen Mississippi Blues  1940  \n",
       "1            Sleepy Man Blues  1940  \n",
       "2         Young Woman's Blues  1940  \n",
       "3            High Fever Blues  1940  \n",
       "4     Bukka's Jitterbug Swing  1940  "
      ]
     },
     "execution_count": 3,
     "metadata": {},
     "output_type": "execute_result"
    }
   ],
   "source": [
    "# load data from mongodb into pandas\n",
    "data = coll.find({\"year\":1940}, {\"_id\":0, \"track_id\":0}).limit(10)\n",
    "song_lyrics = pd.DataFrame(list(data))\n",
    "song_lyrics.head()"
   ]
  },
  {
   "cell_type": "code",
   "execution_count": 8,
   "metadata": {
    "collapsed": false
   },
   "outputs": [
    {
     "data": {
      "text/plain": [
       "'Bukka White'"
      ]
     },
     "execution_count": 8,
     "metadata": {},
     "output_type": "execute_result"
    }
   ],
   "source": [
    "print(song_lyrics.ix[0].)"
   ]
  },
  {
   "cell_type": "code",
   "execution_count": null,
   "metadata": {
    "collapsed": true
   },
   "outputs": [],
   "source": [
    "#nlp pipeline\n",
    "#1. split into sentences\n",
    "#2. tokenize\n",
    "#3. remove punctuation and stopwords\n",
    "#4. lowercase\n",
    "#5. stemming (lemmas)\n",
    "#6. vectorize (tf-idf, count vectors)\n",
    "#7. lda"
   ]
  }
 ],
 "metadata": {
  "anaconda-cloud": {},
  "kernelspec": {
   "display_name": "Python 3",
   "language": "python",
   "name": "python3"
  },
  "language_info": {
   "codemirror_mode": {
    "name": "ipython",
    "version": 3
   },
   "file_extension": ".py",
   "mimetype": "text/x-python",
   "name": "python",
   "nbconvert_exporter": "python",
   "pygments_lexer": "ipython3",
   "version": "3.5.2"
  }
 },
 "nbformat": 4,
 "nbformat_minor": 0
}
