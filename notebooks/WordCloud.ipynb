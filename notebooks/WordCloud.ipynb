{
 "cells": [
  {
   "cell_type": "code",
   "execution_count": 37,
   "metadata": {
    "collapsed": false
   },
   "outputs": [],
   "source": [
    "from os import path\n",
    "import matplotlib.pyplot as plt\n",
    "from PIL import Image\n",
    "import numpy as np\n",
    "from wordcloud import WordCloud, STOPWORDS\n",
    "\n",
    "f = open('lyrics_only.txt', 'r')\n",
    "wordls = []\n",
    "for line in f.readlines():\n",
    "    if \":\" not in line:\n",
    "        ls = line.lower()\n",
    "        ls = ls.replace(',','').replace('?','').replace('...','').replace('.','').replace('!','').replace(';','')\n",
    "        ls = ls.split()\n",
    "        if len(ls)>1:\n",
    "            wordls += ls\n",
    "            \n",
    "thefile = open('wordlist.txt', 'w')\n",
    "for item in wordls:\n",
    "    thefile.write(\"%s \" % item)\n",
    "thefile.close()"
   ]
  },
  {
   "cell_type": "code",
   "execution_count": 38,
   "metadata": {
    "collapsed": false
   },
   "outputs": [],
   "source": [
    "d = path.dirname(\"/Users/MaxTan/Documents/CU_16fall/Capstone/Song_Lyrics/\")\n",
    "\n",
    "# Read the whole text.\n",
    "text = open(path.join(d, 'wordlist.txt')).read()\n",
    "\n",
    "# Generate a word cloud image\n",
    "wordcloud = WordCloud().generate(text)\n",
    "\n",
    "# Display the generated image:\n",
    "# the matplotlib way:\n",
    "\n",
    "plt.figure(figsize=(100,100),dpi =1200)\n",
    "plt.imshow(wordcloud)\n",
    "plt.axis(\"off\")\n",
    "\n",
    "# take relative word frequencies into account, lower max_font_size\n",
    "wordcloud = WordCloud(max_font_size=80,stopwords=STOPWORDS,font_path = 'EraserRegular.ttf',#font_path = 'Amadeus.ttf',#font_path='CabinSketch-Bold.otf',\n",
    "                      background_color='black',max_words=600,width=600,height=600,\n",
    "                      relative_scaling=.8).generate(text)\n",
    "plt.figure()\n",
    "plt.imshow(wordcloud)\n",
    "plt.axis(\"off\")\n",
    "plt.savefig(\"result.png\",figsize=(100,100),dpi=1200)\n",
    "plt.close()"
   ]
  },
  {
   "cell_type": "code",
   "execution_count": null,
   "metadata": {
    "collapsed": true
   },
   "outputs": [],
   "source": []
  }
 ],
 "metadata": {
  "kernelspec": {
   "display_name": "Python 2",
   "language": "python",
   "name": "python2"
  },
  "language_info": {
   "codemirror_mode": {
    "name": "ipython",
    "version": 2
   },
   "file_extension": ".py",
   "mimetype": "text/x-python",
   "name": "python",
   "nbconvert_exporter": "python",
   "pygments_lexer": "ipython2",
   "version": "2.7.11"
  }
 },
 "nbformat": 4,
 "nbformat_minor": 0
}
